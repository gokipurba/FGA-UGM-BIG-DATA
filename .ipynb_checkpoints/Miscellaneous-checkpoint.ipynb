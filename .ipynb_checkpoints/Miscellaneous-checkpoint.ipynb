{
 "cells": [
  {
   "cell_type": "code",
   "execution_count": 1,
   "metadata": {},
   "outputs": [
    {
     "name": "stdout",
     "output_type": "stream",
     "text": [
      "1\n",
      "2\n",
      "4\n",
      "8\n",
      "16\n",
      "32\n",
      "64\n",
      "128\n"
     ]
    }
   ],
   "source": [
    "def powers_of_2(n):\n",
    "    power = 1\n",
    "    for i in range(n):\n",
    "        yield power\n",
    "        power *= 2\n",
    "\n",
    "\n",
    "for v in powers_of_2(8):\n",
    "    print(v)\n",
    "\n"
   ]
  },
  {
   "cell_type": "code",
   "execution_count": 2,
   "metadata": {},
   "outputs": [
    {
     "name": "stdout",
     "output_type": "stream",
     "text": [
      "[1, 2, 4, 8, 16]\n"
     ]
    }
   ],
   "source": [
    "def powers_of_2(n):\n",
    "    power = 1\n",
    "    for i in range(n):\n",
    "        yield power\n",
    "        power *= 2\n",
    "\n",
    "\n",
    "t = [x for x in powers_of_2(5)]\n",
    "print(t)"
   ]
  },
  {
   "cell_type": "code",
   "execution_count": 3,
   "metadata": {},
   "outputs": [
    {
     "name": "stdout",
     "output_type": "stream",
     "text": [
      "[1, 2, 4]\n"
     ]
    }
   ],
   "source": [
    "def powers_of_2(n):\n",
    "    power = 1\n",
    "    for i in range(n):\n",
    "        yield power\n",
    "        power *= 2\n",
    "\n",
    "\n",
    "t = list(powers_of_2(3))\n",
    "print(t)"
   ]
  },
  {
   "cell_type": "code",
   "execution_count": 4,
   "metadata": {},
   "outputs": [
    {
     "name": "stdout",
     "output_type": "stream",
     "text": [
      "1\n",
      "2\n",
      "4\n",
      "8\n"
     ]
    }
   ],
   "source": [
    "def powers_of_2(n):\n",
    "    power = 1\n",
    "    for i in range(n):\n",
    "        yield power\n",
    "        power *= 2\n",
    "\n",
    "\n",
    "for i in range(20):\n",
    "    if i in powers_of_2(4):\n",
    "        print(i)"
   ]
  },
  {
   "cell_type": "code",
   "execution_count": 5,
   "metadata": {},
   "outputs": [
    {
     "name": "stdout",
     "output_type": "stream",
     "text": [
      "[1, 1, 2, 3, 5, 8, 13, 21, 34, 55]\n"
     ]
    }
   ],
   "source": [
    "def fibonacci(n):\n",
    "    p = pp = 1\n",
    "    for i in range(n):\n",
    "        if i in [0, 1]:\n",
    "            yield 1\n",
    "        else:\n",
    "            n = p + pp\n",
    "            pp, p = p, n\n",
    "            yield n\n",
    "\n",
    "fibs = list(fibonacci(10))\n",
    "print(fibs)"
   ]
  },
  {
   "cell_type": "code",
   "execution_count": 6,
   "metadata": {},
   "outputs": [
    {
     "name": "stdout",
     "output_type": "stream",
     "text": [
      "4 4\n",
      "1 1\n",
      "0 0\n",
      "1 1\n",
      "4 4\n"
     ]
    }
   ],
   "source": [
    "two = lambda: 2\n",
    "sqr = lambda x: x * x\n",
    "pwr = lambda x, y: x ** y\n",
    "\n",
    "for a in range(-2, 3):\n",
    "    print(sqr(a), end=\" \")\n",
    "    print(pwr(a, two()))"
   ]
  },
  {
   "cell_type": "code",
   "execution_count": 7,
   "metadata": {},
   "outputs": [],
   "source": [
    "import random\n",
    "\n",
    "f = open(\"D:/Big Data/Digital Talent/1_tulis.txt\",\"w\")\n",
    "for i in range(100):\n",
    "    f.write(str(random.randint(0,1000))+\" \")\n",
    "\n",
    "f.close()"
   ]
  },
  {
   "cell_type": "code",
   "execution_count": 8,
   "metadata": {},
   "outputs": [
    {
     "name": "stdout",
     "output_type": "stream",
     "text": [
      "675 839 947 203 78 525 280 264 239 511 311 253 65 911 531 737 814 277 21 693 545 528 132 45 776 197 689 590 744 489 148 168 42 593 103 912 12 641 770 13 875 875 380 482 944 219 682 752 942 329 575 569 859 243 576 363 219 190 117 731 706 673 985 868 323 528 426 805 228 383 517 215 201 551 847 941 532 449 895 15 478 482 239 41 843 348 690 439 72 75 135 719 888 950 194 943 485 652 773 32 \n"
     ]
    }
   ],
   "source": [
    "stream = open(\"D:/Big Data/Digital Talent/1_tulis.txt\",\"rt\")\n",
    "print(stream.read())"
   ]
  },
  {
   "cell_type": "code",
   "execution_count": 9,
   "metadata": {},
   "outputs": [
    {
     "name": "stdout",
     "output_type": "stream",
     "text": [
      "Jakarta - Pemerintah mengeluarkan indikator kematian dalam menilai kondisi krisis Corona di daerah. Pengeluaran indikator kematian ini dilakukan karena ada temuan input data yang merupakan akumulasi beberapa minggu ke belakang.\n",
      "====================\n",
      "\n",
      "====================\n",
      "Hal ini disampaikan oleh Menko Kemaritiman dan Investasi Luhut Panjaitan saat mengumumkan perpanjangan PPKM level 4-3 hingga 16 Agustus 2021. Mulanya, Luhut mengatakan ada perbaikan yang cukup signifikan saat pemberlakuan PPKM.\n",
      "====================\n",
      "\n",
      "====================\n",
      "\"Dalam penerapan PPKM Level 4 dan 3 yang akan dilakukan pada 10 Agustus-16 Agustus 2021 nanti, terdapat 26 kota atau kabupaten yang turun dari level 4 ke level 3, hal ini menunjukkan perbaikan kondisi di lapangan yang cukup signifikan,\" kata Luhut dalam konferensi pers yang disiarkan kanal YouTube Sekretariat Presiden, Senin (9/8/2021).====================\n",
      "\n",
      "\n",
      "Characters in file:  796\n",
      "Lines in file:   5\n"
     ]
    }
   ],
   "source": [
    "from os import strerror\n",
    "\n",
    "try:\n",
    "    ccnt = lcnt = 0\n",
    "    s = open(\"D:/Big Data/Digital Talent/coba.txt\",\"rt\")\n",
    "    line = s.readline()\n",
    "    while line != '':\n",
    "        lcnt +=1\n",
    "        for ch in line:\n",
    "            print(ch,end='')\n",
    "            ccnt +=1\n",
    "        line = s.readline()\n",
    "        print(\"=\"*20)\n",
    "    s.close()\n",
    "    print(\"\\n\\nCharacters in file: \", ccnt)\n",
    "    print(\"Lines in file:  \", lcnt)\n",
    "except IOError as e : \n",
    "    print(\"I/O error occurred:\",strerr(e.errno))"
   ]
  },
  {
   "cell_type": "code",
   "execution_count": 9,
   "metadata": {
    "scrolled": false
   },
   "outputs": [
    {
     "name": "stdout",
     "output_type": "stream",
     "text": [
      "Enter Student`s data filename: D:\\Big Data\\Digital Talent\\sampel.txt\n",
      "Gogo Purba \t 66.0\n",
      "Goki Purba \t 118.0\n",
      "Grace Purba \t 46.0\n"
     ]
    }
   ],
   "source": [
    "class StudentsDataException(Exception):\n",
    "    pass\n",
    "\n",
    "class BadLine(StudentsDataException):\n",
    "    def __init__(self, line_number, line_string):\n",
    "        super().__init__(self)\n",
    "        self.line_number = line_number\n",
    "        self.line_string = line_string\n",
    "        \n",
    "class FileEmpty(StudentsDataException):\n",
    "    def __init__(self):\n",
    "        super().__init__(self)\n",
    "        \n",
    "\n",
    "from os import strerror\n",
    "\n",
    "data = { }\n",
    "\n",
    "file_name = input(\"Enter Student`s data filename: \")\n",
    "line_number = 1\n",
    "try:\n",
    "    f = open(file_name, \"rt\")\n",
    "    \n",
    "    lines = f.readlines()\n",
    "    f.close\n",
    "    \n",
    "    #is the file empt?\n",
    "    if len(lines) == 0:\n",
    "        raise FileEmpty()\n",
    "    #scan the line by line\n",
    "    for i in range (len(lines)):\n",
    "        line = lines[i]\n",
    "        \n",
    "        columns = line.split()\n",
    "        if len(columns) != 3:\n",
    "            raise BadLine(i + 1, line)\n",
    "        \n",
    "        student = columns[0] + ' '+ columns[1]\n",
    "        \n",
    "        try:\n",
    "            points = float(columns[2])\n",
    "        except ValueError:\n",
    "            raise BadLine(i + 1, line)\n",
    "            \n",
    "        try :\n",
    "            data[student] += points\n",
    "        except KeyError:\n",
    "            data[student] = points\n",
    "    #print results\n",
    "    for student in sorted (data.keys()):\n",
    "        print(student,'\\t', data[student])\n",
    "except Exception:\n",
    "        StudentsDataException"
   ]
  },
  {
   "cell_type": "code",
   "execution_count": null,
   "metadata": {},
   "outputs": [],
   "source": []
  }
 ],
 "metadata": {
  "kernelspec": {
   "display_name": "Python 3",
   "language": "python",
   "name": "python3"
  },
  "language_info": {
   "codemirror_mode": {
    "name": "ipython",
    "version": 3
   },
   "file_extension": ".py",
   "mimetype": "text/x-python",
   "name": "python",
   "nbconvert_exporter": "python",
   "pygments_lexer": "ipython3",
   "version": "3.8.5"
  }
 },
 "nbformat": 4,
 "nbformat_minor": 4
}
